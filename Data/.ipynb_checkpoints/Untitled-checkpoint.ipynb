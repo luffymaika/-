{
 "cells": [
  {
   "cell_type": "code",
   "execution_count": 2,
   "metadata": {},
   "outputs": [],
   "source": [
    "import pandas as pd\n",
    "import numpy as np\n",
    "import jieba\n",
    "import os\n",
    "import collections\n",
    "# import "
   ]
  },
  {
   "cell_type": "code",
   "execution_count": 3,
   "metadata": {
    "collapsed": true
   },
   "outputs": [],
   "source": [
    "def Readcsv(path, date, goodsnum):\n",
    "    \"\"\"\n",
    "    Args:\n",
    "        path:指的是扫描路径\n",
    "        date:指的是文件名中包含的日期，用于排除部分的数据\n",
    "        goodsnum:商品分类\n",
    "    \"\"\"\n",
    "    numdic = {}\n",
    "    for filename in os.listdir(path):\n",
    "        if 'csv' not in filename :\n",
    "            continue\n",
    "        if date not in filename :\n",
    "            continue\n",
    "        \n",
    "        file = os.path.join(path, filename)\n",
    "        data = pd.read_csv(file, 'gbk')\n",
    "        numdic[filename] = data.size\n",
    "#         print(data.size)\n",
    "    return(numdic)\n",
    "\n",
    "def Readcsv2(path, date, goodsnum):\n",
    "    numdic = {}\n",
    "    filenames = []\n",
    "    for filename in os.listdir(path):\n",
    "        if 'csv' not in filename :\n",
    "            continue\n",
    "        if date not in filename :\n",
    "            continue\n",
    "        strlist = filename.sp\n",
    "        filenames.append(filename)\n",
    "    \n",
    "    file = os.path.join(path, filename)\n",
    "    data = pd.read_csv(file, 'gbk')\n",
    "    numdic[filename] = data.size\n",
    "#         print(data.size)\n",
    "    return(numdic)"
   ]
  },
  {
   "cell_type": "code",
   "execution_count": 4,
   "metadata": {},
   "outputs": [
    {
     "name": "stdout",
     "output_type": "stream",
     "text": [
      "JD_Crawler_10_20_25.csv 25\n",
      "JD_Crawler_1_20_25.csv 277\n",
      "JD_Crawler_2_20_25.csv 373\n",
      "JD_Crawler_3_20_25.csv 162\n",
      "JD_Crawler_4_20_25.csv 114\n",
      "JD_Crawler_5_20_25.csv 69\n",
      "JD_Crawler_6_20_25.csv 84\n",
      "JD_Crawler_7_20_25.csv 70\n",
      "JD_Crawler_8_20_25.csv 19\n",
      "JD_Crawler_9_20_25.csv 11\n",
      "[1008.0, 34.657039711191338, -56.568364611260051, -29.62962962962963, -39.473684210526315, 21.739130434782609, -16.666666666666668, -72.857142857142861, -42.10526315789474, 11]\n"
     ]
    },
    {
     "name": "stderr",
     "output_type": "stream",
     "text": [
      "D:\\Python\\Anaconda\\lib\\site-packages\\ipykernel_launcher.py:10: ParserWarning: Falling back to the 'python' engine because the 'c' engine does not support regex separators (separators > 1 char and different from '\\s+' are interpreted as regex); you can avoid this warning by specifying engine='python'.\n",
      "  # Remove the CWD from sys.path while we load stuff.\n"
     ]
    }
   ],
   "source": [
    "numdict = Readcsv('E:\\\\NLP\\\\zhuanli\\\\Data', '20', 10)\n",
    "for key in numdict:\n",
    "    print(key+\" \"+str(numdict[key]))\n",
    "num = list(numdict.values())\n",
    "num2 = num\n",
    "for a in range(len(num)-1):\n",
    "    num2[a] = (num2[a+1]-num2[a])*100/num2[a]\n",
    "print(num2)"
   ]
  },
  {
   "cell_type": "code",
   "execution_count": 12,
   "metadata": {},
   "outputs": [
    {
     "name": "stdout",
     "output_type": "stream",
     "text": [
      "<class 'pandas.core.series.Series'>\n",
      "<class 'pandas.core.series.Series'>\n",
      "<class 'pandas.core.series.Series'>\n",
      "<class 'pandas.core.series.Series'>\n",
      "<class 'pandas.core.series.Series'>\n",
      "<class 'pandas.core.series.Series'>\n",
      "<class 'pandas.core.series.Series'>\n",
      "<class 'pandas.core.series.Series'>\n",
      "<class 'pandas.core.series.Series'>\n",
      "<class 'pandas.core.series.Series'>\n"
     ]
    }
   ],
   "source": [
    "for filename in os.listdir('E:\\\\NLP\\\\zhuanli\\\\Data'):\n",
    "    if '2' not in filename:\n",
    "        continue\n",
    "    if 'csv' not in filename:\n",
    "        continue\n",
    "    path = os.path.join('E:\\\\NLP\\\\zhuanli\\\\Data',filename)\n",
    "    data = pd.read_csv(path, encoding='gbk')\n",
    "    label = data['Assess']\n",
    "    label=label.replace({'好评':0, '中评':1, '差评':2 })\n",
    "    print(type(label))"
   ]
  }
 ],
 "metadata": {
  "kernelspec": {
   "display_name": "Python 3",
   "language": "python",
   "name": "python3"
  },
  "language_info": {
   "codemirror_mode": {
    "name": "ipython",
    "version": 3
   },
   "file_extension": ".py",
   "mimetype": "text/x-python",
   "name": "python",
   "nbconvert_exporter": "python",
   "pygments_lexer": "ipython3",
   "version": "3.6.1"
  }
 },
 "nbformat": 4,
 "nbformat_minor": 2
}
